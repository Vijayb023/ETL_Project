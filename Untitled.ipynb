{
 "cells": [
  {
   "cell_type": "code",
   "execution_count": 1,
   "metadata": {},
   "outputs": [],
   "source": [
    "import pandas as pd\n"
   ]
  },
  {
   "cell_type": "code",
   "execution_count": 2,
   "metadata": {},
   "outputs": [
    {
     "data": {
      "text/html": [
       "<div>\n",
       "<style scoped>\n",
       "    .dataframe tbody tr th:only-of-type {\n",
       "        vertical-align: middle;\n",
       "    }\n",
       "\n",
       "    .dataframe tbody tr th {\n",
       "        vertical-align: top;\n",
       "    }\n",
       "\n",
       "    .dataframe thead th {\n",
       "        text-align: right;\n",
       "    }\n",
       "</style>\n",
       "<table border=\"1\" class=\"dataframe\">\n",
       "  <thead>\n",
       "    <tr style=\"text-align: right;\">\n",
       "      <th></th>\n",
       "      <th>CITY</th>\n",
       "      <th>LAT</th>\n",
       "      <th>LONG</th>\n",
       "      <th>OFFENSE_CODE_GROUP</th>\n",
       "      <th>DESCRIPTION</th>\n",
       "      <th>DATE_OCCURED</th>\n",
       "    </tr>\n",
       "  </thead>\n",
       "  <tbody>\n",
       "    <tr>\n",
       "      <th>0</th>\n",
       "      <td>Austin</td>\n",
       "      <td>NaN</td>\n",
       "      <td>NaN</td>\n",
       "      <td>Homicide: Murder &amp; Nonnegligent Manslaughter</td>\n",
       "      <td>CAPITAL MURDER</td>\n",
       "      <td>2014-09-12</td>\n",
       "    </tr>\n",
       "    <tr>\n",
       "      <th>1</th>\n",
       "      <td>Austin</td>\n",
       "      <td>NaN</td>\n",
       "      <td>NaN</td>\n",
       "      <td>Murder</td>\n",
       "      <td>CAPITAL MURDER</td>\n",
       "      <td>2016-03-04</td>\n",
       "    </tr>\n",
       "    <tr>\n",
       "      <th>2</th>\n",
       "      <td>Austin</td>\n",
       "      <td>NaN</td>\n",
       "      <td>NaN</td>\n",
       "      <td>Murder</td>\n",
       "      <td>CAPITAL MURDER</td>\n",
       "      <td>2016-10-18</td>\n",
       "    </tr>\n",
       "    <tr>\n",
       "      <th>3</th>\n",
       "      <td>Austin</td>\n",
       "      <td>NaN</td>\n",
       "      <td>NaN</td>\n",
       "      <td>Murder</td>\n",
       "      <td>CAPITAL MURDER</td>\n",
       "      <td>2016-08-09</td>\n",
       "    </tr>\n",
       "    <tr>\n",
       "      <th>4</th>\n",
       "      <td>Austin</td>\n",
       "      <td>NaN</td>\n",
       "      <td>NaN</td>\n",
       "      <td>Murder</td>\n",
       "      <td>CAPITAL MURDER</td>\n",
       "      <td>2016-11-02</td>\n",
       "    </tr>\n",
       "  </tbody>\n",
       "</table>\n",
       "</div>"
      ],
      "text/plain": [
       "     CITY  LAT  LONG                            OFFENSE_CODE_GROUP  \\\n",
       "0  Austin  NaN   NaN  Homicide: Murder & Nonnegligent Manslaughter   \n",
       "1  Austin  NaN   NaN                                        Murder   \n",
       "2  Austin  NaN   NaN                                        Murder   \n",
       "3  Austin  NaN   NaN                                        Murder   \n",
       "4  Austin  NaN   NaN                                        Murder   \n",
       "\n",
       "                      DESCRIPTION DATE_OCCURED  \n",
       "0  CAPITAL MURDER                   2014-09-12  \n",
       "1  CAPITAL MURDER                   2016-03-04  \n",
       "2  CAPITAL MURDER                   2016-10-18  \n",
       "3  CAPITAL MURDER                   2016-08-09  \n",
       "4  CAPITAL MURDER                   2016-11-02  "
      ]
     },
     "execution_count": 2,
     "metadata": {},
     "output_type": "execute_result"
    }
   ],
   "source": [
    "csv_path = \"Data/processed_data.csv\"\n",
    "proc_df = pd.read_csv(csv_path)\n",
    "proc_df.head()"
   ]
  },
  {
   "cell_type": "code",
   "execution_count": 3,
   "metadata": {},
   "outputs": [
    {
     "data": {
      "text/html": [
       "<div>\n",
       "<style scoped>\n",
       "    .dataframe tbody tr th:only-of-type {\n",
       "        vertical-align: middle;\n",
       "    }\n",
       "\n",
       "    .dataframe tbody tr th {\n",
       "        vertical-align: top;\n",
       "    }\n",
       "\n",
       "    .dataframe thead th {\n",
       "        text-align: right;\n",
       "    }\n",
       "</style>\n",
       "<table border=\"1\" class=\"dataframe\">\n",
       "  <thead>\n",
       "    <tr style=\"text-align: right;\">\n",
       "      <th></th>\n",
       "      <th>Date</th>\n",
       "      <th>Open</th>\n",
       "      <th>High</th>\n",
       "      <th>Low</th>\n",
       "      <th>Close</th>\n",
       "      <th>Adj Close</th>\n",
       "      <th>Volume</th>\n",
       "    </tr>\n",
       "  </thead>\n",
       "  <tbody>\n",
       "    <tr>\n",
       "      <th>0</th>\n",
       "      <td>1958-12-01</td>\n",
       "      <td>52.689999</td>\n",
       "      <td>52.689999</td>\n",
       "      <td>52.689999</td>\n",
       "      <td>52.689999</td>\n",
       "      <td>52.689999</td>\n",
       "      <td>3800000</td>\n",
       "    </tr>\n",
       "    <tr>\n",
       "      <th>1</th>\n",
       "      <td>1958-12-02</td>\n",
       "      <td>52.459999</td>\n",
       "      <td>52.459999</td>\n",
       "      <td>52.459999</td>\n",
       "      <td>52.459999</td>\n",
       "      <td>52.459999</td>\n",
       "      <td>3320000</td>\n",
       "    </tr>\n",
       "    <tr>\n",
       "      <th>2</th>\n",
       "      <td>1958-12-03</td>\n",
       "      <td>52.529999</td>\n",
       "      <td>52.529999</td>\n",
       "      <td>52.529999</td>\n",
       "      <td>52.529999</td>\n",
       "      <td>52.529999</td>\n",
       "      <td>3460000</td>\n",
       "    </tr>\n",
       "    <tr>\n",
       "      <th>3</th>\n",
       "      <td>1958-12-04</td>\n",
       "      <td>52.549999</td>\n",
       "      <td>52.549999</td>\n",
       "      <td>52.549999</td>\n",
       "      <td>52.549999</td>\n",
       "      <td>52.549999</td>\n",
       "      <td>3630000</td>\n",
       "    </tr>\n",
       "    <tr>\n",
       "      <th>4</th>\n",
       "      <td>1958-12-05</td>\n",
       "      <td>52.459999</td>\n",
       "      <td>52.459999</td>\n",
       "      <td>52.459999</td>\n",
       "      <td>52.459999</td>\n",
       "      <td>52.459999</td>\n",
       "      <td>3360000</td>\n",
       "    </tr>\n",
       "  </tbody>\n",
       "</table>\n",
       "</div>"
      ],
      "text/plain": [
       "         Date       Open       High        Low      Close  Adj Close   Volume\n",
       "0  1958-12-01  52.689999  52.689999  52.689999  52.689999  52.689999  3800000\n",
       "1  1958-12-02  52.459999  52.459999  52.459999  52.459999  52.459999  3320000\n",
       "2  1958-12-03  52.529999  52.529999  52.529999  52.529999  52.529999  3460000\n",
       "3  1958-12-04  52.549999  52.549999  52.549999  52.549999  52.549999  3630000\n",
       "4  1958-12-05  52.459999  52.459999  52.459999  52.459999  52.459999  3360000"
      ]
     },
     "execution_count": 3,
     "metadata": {},
     "output_type": "execute_result"
    }
   ],
   "source": [
    "csv_path = \"Data/^GSPC.csv\"\n",
    "stock_df = pd.read_csv(csv_path)\n",
    "stock_df.head()"
   ]
  },
  {
   "cell_type": "code",
   "execution_count": 10,
   "metadata": {},
   "outputs": [
    {
     "data": {
      "text/plain": [
       "<bound method NDFrame.head of Empty DataFrame\n",
       "Columns: [CITY, LAT, LONG, OFFENSE_CODE_GROUP, DESCRIPTION, DATE_OCCURED, Date, Open, High, Low, Close, Adj Close, Volume]\n",
       "Index: []>"
      ]
     },
     "execution_count": 10,
     "metadata": {},
     "output_type": "execute_result"
    }
   ],
   "source": [
    "df3 = pd.merge(proc_df,stock_df,left_on=\"CITY\",right_on=\"Date\")\n",
    "df3.head"
   ]
  },
  {
   "cell_type": "code",
   "execution_count": null,
   "metadata": {},
   "outputs": [],
   "source": []
  }
 ],
 "metadata": {
  "kernelspec": {
   "display_name": "Python 36(PythonData)",
   "language": "python",
   "name": "pythondata"
  },
  "language_info": {
   "codemirror_mode": {
    "name": "ipython",
    "version": 3
   },
   "file_extension": ".py",
   "mimetype": "text/x-python",
   "name": "python",
   "nbconvert_exporter": "python",
   "pygments_lexer": "ipython3",
   "version": "3.6.8"
  }
 },
 "nbformat": 4,
 "nbformat_minor": 2
}
